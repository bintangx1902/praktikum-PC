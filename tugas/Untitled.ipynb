{
 "cells": [
  {
   "cell_type": "code",
   "execution_count": 5,
   "id": "8a0bc5e8",
   "metadata": {},
   "outputs": [],
   "source": [
    "import numpy as np\n",
    "import cv2 as cv"
   ]
  },
  {
   "cell_type": "code",
   "execution_count": 6,
   "outputs": [
    {
     "ename": "error",
     "evalue": "OpenCV(4.7.0) D:/a/opencv-python/opencv-python/opencv/modules/imgproc/src/filter.simd.hpp:3297: error: (-213:The function/feature is not implemented) Unsupported combination of source format (=4), and destination format (=4) in function 'cv::opt_AVX2::getLinearFilter'\n",
     "output_type": "error",
     "traceback": [
      "\u001B[1;31m---------------------------------------------------------------------------\u001B[0m",
      "\u001B[1;31merror\u001B[0m                                     Traceback (most recent call last)",
      "Cell \u001B[1;32mIn[6], line 15\u001B[0m\n\u001B[0;32m      1\u001B[0m medic \u001B[38;5;241m=\u001B[39m np\u001B[38;5;241m.\u001B[39marray([\n\u001B[0;32m      2\u001B[0m     [\u001B[38;5;241m13\u001B[39m,\u001B[38;5;241m10\u001B[39m,\u001B[38;5;241m15\u001B[39m,\u001B[38;5;241m14\u001B[39m,\u001B[38;5;241m18\u001B[39m],\n\u001B[0;32m      3\u001B[0m     [\u001B[38;5;241m12\u001B[39m,\u001B[38;5;241m10\u001B[39m,\u001B[38;5;241m10\u001B[39m,\u001B[38;5;241m10\u001B[39m,\u001B[38;5;241m15\u001B[39m],\n\u001B[1;32m   (...)\u001B[0m\n\u001B[0;32m      6\u001B[0m     [\u001B[38;5;241m13\u001B[39m,\u001B[38;5;241m12\u001B[39m,\u001B[38;5;241m9\u001B[39m,\u001B[38;5;241m8\u001B[39m,\u001B[38;5;241m10\u001B[39m]\n\u001B[0;32m      7\u001B[0m ])\n\u001B[0;32m      9\u001B[0m kernel \u001B[38;5;241m=\u001B[39m np\u001B[38;5;241m.\u001B[39marray([\n\u001B[0;32m     10\u001B[0m     [\u001B[38;5;241m0\u001B[39m, \u001B[38;5;241m1\u001B[39m, \u001B[38;5;241m0\u001B[39m],\n\u001B[0;32m     11\u001B[0m     [\u001B[38;5;241m1\u001B[39m, \u001B[38;5;241m-\u001B[39m\u001B[38;5;241m4\u001B[39m, \u001B[38;5;241m1\u001B[39m],\n\u001B[0;32m     12\u001B[0m     [\u001B[38;5;241m0\u001B[39m, \u001B[38;5;241m1\u001B[39m, \u001B[38;5;241m0\u001B[39m],\n\u001B[0;32m     13\u001B[0m ])\n\u001B[1;32m---> 15\u001B[0m medic_conv \u001B[38;5;241m=\u001B[39m \u001B[43mcv\u001B[49m\u001B[38;5;241;43m.\u001B[39;49m\u001B[43mfilter2D\u001B[49m\u001B[43m(\u001B[49m\u001B[43mmedic\u001B[49m\u001B[43m,\u001B[49m\u001B[43m \u001B[49m\u001B[38;5;241;43m-\u001B[39;49m\u001B[38;5;241;43m1\u001B[39;49m\u001B[43m,\u001B[49m\u001B[43m \u001B[49m\u001B[43mkernel\u001B[49m\u001B[43m)\u001B[49m\n",
      "\u001B[1;31merror\u001B[0m: OpenCV(4.7.0) D:/a/opencv-python/opencv-python/opencv/modules/imgproc/src/filter.simd.hpp:3297: error: (-213:The function/feature is not implemented) Unsupported combination of source format (=4), and destination format (=4) in function 'cv::opt_AVX2::getLinearFilter'\n"
     ]
    }
   ],
   "source": [
    "medic = np.array([\n",
    "    [13,10,15,14,18],\n",
    "    [12,10,10,10,15],\n",
    "    [11,11,35,10,10],\n",
    "    [13,9,12,10,12],\n",
    "    [13,12,9,8,10]\n",
    "])\n",
    "\n",
    "kernel = np.array([\n",
    "    [0, 1, 0],\n",
    "    [1, -4, 1],\n",
    "    [0, 1, 0],\n",
    "])\n",
    "\n",
    "medic_conv = cv.filter2D(medic, -1, kernel)"
   ],
   "metadata": {
    "collapsed": false
   }
  },
  {
   "cell_type": "code",
   "execution_count": null,
   "outputs": [],
   "source": [],
   "metadata": {
    "collapsed": false
   }
  }
 ],
 "metadata": {
  "kernelspec": {
   "display_name": "Python 3 (ipykernel)",
   "language": "python",
   "name": "python3"
  }
 },
 "nbformat": 4,
 "nbformat_minor": 5
}
